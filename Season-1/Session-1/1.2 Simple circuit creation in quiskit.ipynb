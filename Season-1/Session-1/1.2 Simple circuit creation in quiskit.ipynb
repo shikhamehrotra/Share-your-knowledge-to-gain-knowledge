{
  "cells": [
    {
      "cell_type": "markdown",
      "metadata": {},
      "source": "# FIRST STEPS IN QISKIT\n\nIn this notebook, we are going to learn how to use Qiskit to define a simple circuit and to execute it on both simulators and the quantum computers of the IBM Quantum Experience.. \n\nWe start by importing the necessary packages."
    },
    {
      "cell_type": "code",
      "execution_count": 1,
      "metadata": {
        "trusted": true
      },
      "outputs": [],
      "source": "%matplotlib inline\n\nfrom qiskit import *\nfrom qiskit.visualization import *\nfrom qiskit.tools.monitor import *"
    },
    {
      "cell_type": "markdown",
      "metadata": {},
      "source": "## Defining the circuit\n\nNow, we are going to define a very simple circuit: we will use the $H$ gate to put a qubit in superposition and then we will measure it"
    },
    {
      "cell_type": "code",
      "execution_count": 2,
      "metadata": {
        "trusted": true
      },
      "outputs": [
        {
          "data": {
            "image/png": "[encoded data removed]",
            "text/plain": "<Figure size 193.726x144.48 with 1 Axes>"
          },
          "execution_count": 2,
          "metadata": {},
          "output_type": "execute_result"
        }
      ],
      "source": "# Let's create a circuit to put a state in superposition and measure it\n\ncirc = QuantumCircuit(1,1) # We use one qubit and also one classical bit for the measure result \n\ncirc.h(0) #We apply the H gate\n\ncirc.measure(range(1),range(1)) # We measure\n\ncirc.draw(output='mpl') #We draw the circuit"
    },
    {
      "cell_type": "markdown",
      "metadata": {},
      "source": "We can also very easily obtain the *qasm* code for the circuit."
    },
    {
      "cell_type": "code",
      "execution_count": null,
      "metadata": {
        "trusted": true
      },
      "outputs": [],
      "source": "print(circ.qasm())"
    },
    {
      "cell_type": "markdown",
      "metadata": {},
      "source": "## Running the circuit on simulators\n\nOnce that we have defined the circuit, we can execute it on a simulator. "
    },
    {
      "cell_type": "code",
      "execution_count": 4,
      "metadata": {
        "trusted": true
      },
      "outputs": [
        {
          "name": "stdout",
          "output_type": "stream",
          "text": "{'0': 512, '1': 512}\n"
        },
        {
          "data": {
            "image/png": "[encoded data removed]",
            "text/plain": "<Figure size 504x360 with 1 Axes>"
          },
          "execution_count": 4,
          "metadata": {},
          "output_type": "execute_result"
        }
      ],
      "source": "# Executing on the local simulator\n\nbackend_sim = Aer.get_backend('qasm_simulator') # We choose the backend\n\njob_sim = execute(circ, backend_sim, shots=1024) # We execute the circuit, selecting the number of repetitions or 'shots'\n\nresult_sim = job_sim.result() # We collect the results\n\ncounts = result_sim.get_counts(circ) # We obtain the frequency of each result and we show them \nprint(counts) \nplot_histogram(counts)"
    },
    {
      "cell_type": "markdown",
      "metadata": {},
      "source": "We can also run the circuit run the circuit with a simulator that computes the final state. For that, we need to create a circuit with no measures "
    },
    {
      "cell_type": "code",
      "execution_count": 5,
      "metadata": {
        "trusted": true
      },
      "outputs": [
        {
          "name": "stdout",
          "output_type": "stream",
          "text": "[0.70710678+0.j 0.70710678+0.j]\n"
        }
      ],
      "source": "# Execution to the get the statevector\n\ncirc2 = QuantumCircuit(1,1)\n\ncirc2.h(0)\n\nbackend = Aer.get_backend('statevector_simulator') # We change the backend\n\njob = execute(circ2, backend) # We execute the circuit with the new simulator. Now, we do not need repetitions\n\nresult = job.result() # We collect the results and access the stavector \noutputstate = result.get_statevector(circ2)\nprint(outputstate)"
    },
    {
      "cell_type": "markdown",
      "metadata": {},
      "source": "Finally, we can also obtain the unitary matrix that represents the action of the circuit"
    },
    {
      "cell_type": "code",
      "execution_count": 6,
      "metadata": {
        "trusted": true
      },
      "outputs": [
        {
          "name": "stdout",
          "output_type": "stream",
          "text": "[[ 0.70710678+0.00000000e+00j  0.70710678-8.65956056e-17j]\n [ 0.70710678+0.00000000e+00j -0.70710678+8.65956056e-17j]]\n"
        }
      ],
      "source": "backend = Aer.get_backend('unitary_simulator') # We change the backend again\n\njob = execute(circ2, backend) # We execute the circuit\n\nresult = job.result() # We collect the results and obtain the matrix\nunitary = result.get_unitary()\nprint(unitary)\n"
    },
    {
      "cell_type": "markdown",
      "metadata": {},
      "source": "Now, we are going to use the quantum computers at the IBM Quantum Experience to use our circuit "
    },
    {
      "cell_type": "code",
      "execution_count": 7,
      "metadata": {
        "trusted": true
      },
      "outputs": [
        {
          "name": "stderr",
          "output_type": "stream",
          "text": "/opt/conda/lib/python3.7/site-packages/qiskit/providers/ibmq/ibmqfactory.py:192: UserWarning: Timestamps in IBMQ backend properties, jobs, and job results are all now in local time instead of UTC.\n  warnings.warn('Timestamps in IBMQ backend properties, jobs, and job results '\n"
        },
        {
          "name": "stdout",
          "output_type": "stream",
          "text": "{'backend_name': 'ibmq_qasm_simulator', 'backend_version': '0.1.547', 'operational': True, 'pending_jobs': 1, 'status_msg': 'active'}\n{'backend_name': 'ibmqx2', 'backend_version': '2.2.5', 'operational': True, 'pending_jobs': 6, 'status_msg': 'active'}\n{'backend_name': 'ibmq_16_melbourne', 'backend_version': '2.3.3', 'operational': True, 'pending_jobs': 3104, 'status_msg': 'active'}\n{'backend_name': 'ibmq_vigo', 'backend_version': '1.3.3', 'operational': True, 'pending_jobs': 0, 'status_msg': 'active'}\n{'backend_name': 'ibmq_ourense', 'backend_version': '1.3.3', 'operational': True, 'pending_jobs': 0, 'status_msg': 'active'}\n{'backend_name': 'ibmq_valencia', 'backend_version': '1.4.3', 'operational': True, 'pending_jobs': 0, 'status_msg': 'active'}\n{'backend_name': 'ibmq_armonk', 'backend_version': '1.1.3', 'operational': True, 'pending_jobs': 6, 'status_msg': 'active'}\n{'backend_name': 'ibmq_athens', 'backend_version': '1.3.1', 'operational': True, 'pending_jobs': 4, 'status_msg': 'active'}\n{'backend_name': 'ibmq_santiago', 'backend_version': '1.2.1', 'operational': True, 'pending_jobs': 1, 'status_msg': 'active'}\n"
        }
      ],
      "source": "# Connecting to the real quantum computers\n\nprovider = IBMQ.load_account() # We load our account \nprovider.backends() # We retrieve the backends to check their status\n\nfor b in provider.backends():\n    print(b.status().to_dict())"
    },
    {
      "cell_type": "markdown",
      "metadata": {},
      "source": "We can execute the circuit on IBM's quantum simulator (supports up to 32 qubits). We only need to select the appropriate backend."
    },
    {
      "cell_type": "code",
      "execution_count": 8,
      "metadata": {
        "trusted": true
      },
      "outputs": [
        {
          "name": "stdout",
          "output_type": "stream",
          "text": "{'0': 503, '1': 521}\n"
        },
        {
          "data": {
            "image/png": "[encoded data removed]",
            "text/plain": "<Figure size 504x360 with 1 Axes>"
          },
          "execution_count": 8,
          "metadata": {},
          "output_type": "execute_result"
        }
      ],
      "source": "# Executing on the IBM Q Experience simulator\n\nbackend_sim = provider.get_backend('ibmq_qasm_simulator') # We choose the backend\n\njob_sim = execute(circ, backend_sim, shots=1024) # We execute the circuit, selecting the number of repetitions or 'shots'\n\nresult_sim = job_sim.result() # We collect the results\n\ncounts = result_sim.get_counts(circ) # We obtain the frequency of each result and we show them \nprint(counts) \nplot_histogram(counts)"
    },
    {
      "cell_type": "markdown",
      "metadata": {},
      "source": "To execute on one of the real quantum computers, we only need to select it as backend. We will use *job_monitor* to have live information on the job status "
    },
    {
      "cell_type": "code",
      "execution_count": null,
      "metadata": {
        "trusted": true
      },
      "outputs": [],
      "source": "# Executing on the quantum computer\n\nbackend = provider.get_backend('ibmq_armonk')\n\njob_exp = execute(circ, backend=backend)\njob_monitor(job_exp)"
    },
    {
      "cell_type": "markdown",
      "metadata": {},
      "source": "When the job is done, we can collect the results and compare them to the ones obtaine with the simulator"
    },
    {
      "cell_type": "code",
      "execution_count": null,
      "metadata": {
        "trusted": true
      },
      "outputs": [],
      "source": "result_exp = job_exp.result()\ncounts_exp = result_exp.get_counts(circ)\nplot_histogram([counts_exp,counts], legend=['Device', 'Simulator'])"
    },
    {
      "cell_type": "code",
      "execution_count": null,
      "metadata": {
        "trusted": true
      },
      "outputs": [],
      "source": ""
    }
  ],
  "metadata": {
    "kernelspec": {
      "display_name": "Python 3",
      "language": "python",
      "name": "python3"
    },
    "language_info": {
      "codemirror_mode": {
        "name": "ipython",
        "version": 3
      },
      "file_extension": ".py",
      "mimetype": "text/x-python",
      "name": "python",
      "nbconvert_exporter": "python",
      "pygments_lexer": "ipython3",
      "version": "3.7.8"
    }
  },
  "nbformat": 4,
  "nbformat_minor": 4
}
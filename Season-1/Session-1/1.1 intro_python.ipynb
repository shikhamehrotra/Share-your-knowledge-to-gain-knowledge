{
  "cells": [
    {
      "cell_type": "markdown",
      "metadata": {},
      "source": "### Introduction to python"
    },
    {
      "cell_type": "code",
      "execution_count": 1,
      "metadata": {
        "colab": {
          "base_uri": "https://localhost:8080/",
          "height": 367
        },
        "colab_type": "code",
        "deletable": false,
        "editable": false,
        "executionInfo": {
          "elapsed": 2071,
          "status": "error",
          "timestamp": 1599967155659,
          "user": {
            "displayName": "N S G",
            "photoUrl": "https://lh3.googleusercontent.com/a-/AOh14GgZWqBkZA_2nZmn6nj8XVAv5oV2mpGfV_DnLuqU=s64",
            "userId": "01883536371985014649"
          },
          "user_tz": -330
        },
        "id": "x8_M7q9XkCEG",
        "outputId": "6124cfcb-24df-4f9a-d707-e1e480393cdc",
        "trusted": true
      },
      "outputs": [
        {
          "name": "stderr",
          "output_type": "stream",
          "text": "/opt/conda/lib/python3.7/site-packages/qiskit/providers/ibmq/ibmqfactory.py:192: UserWarning: Timestamps in IBMQ backend properties, jobs, and job results are all now in local time instead of UTC.\n  warnings.warn('Timestamps in IBMQ backend properties, jobs, and job results '\n"
        }
      ],
      "source": "%matplotlib inline\n# Importing standard Qiskit libraries and configuring account\nfrom qiskit import QuantumCircuit, execute, Aer, IBMQ\nfrom qiskit.compiler import transpile, assemble\nfrom qiskit.tools.jupyter import *\nfrom qiskit.visualization import *\n# Loading your IBM Q account(s)\nprovider = IBMQ.load_account()"
    },
    {
      "cell_type": "markdown",
      "metadata": {
        "colab_type": "text",
        "id": "fR8zPM7LkCEL"
      },
      "source": "This is a Jupyter notebook. We will be using these for all programming activities . A notebook is comprised of different code _cells_ like the one you see above which can be executed independently and in any order. In addition to that, there are also _Markdown cells_, which are used to display text. There is a _kernel_ automatically running in the background which remembers the order in which you run cells. Data (variables etc.) from a cell you have run previously will be available in cells you execute later. Data is **not** shared across different notebooks. \n"
    },
    {
      "cell_type": "code",
      "execution_count": 22,
      "metadata": {
        "colab": {},
        "colab_type": "code",
        "id": "SVBp6VwakCEM",
        "trusted": true
      },
      "outputs": [],
      "source": "a = 25.0\nb = 2"
    },
    {
      "cell_type": "markdown",
      "metadata": {
        "colab_type": "text",
        "id": "1p_ufHjvkCEO"
      },
      "source": "In the cell just above, we have set a _variable_ a equal to 5. If we print the value of a in a cell below, it will retain this value only if the cell above is executed or run before it. "
    },
    {
      "cell_type": "code",
      "execution_count": 23,
      "metadata": {
        "colab": {},
        "colab_type": "code",
        "id": "zL8jDA4fkCEP",
        "outputId": "7b9847a5-cbea-45c9-96d5-49de6baa6037",
        "trusted": true
      },
      "outputs": [
        {
          "name": "stdout",
          "output_type": "stream",
          "text": "12.0\n"
        }
      ],
      "source": "print(a//b)"
    },
    {
      "cell_type": "markdown",
      "metadata": {
        "colab_type": "text",
        "id": "_eF2M4a9kCEU"
      },
      "source": "## Brief review of the Python 3 programming language. \nPython 3 is a very simple programming language with a lot of powerful features. A complete introduction is outside the scope of this course. We will introduce some syntax and data structures which are relevant to quantum computer programming using qiskit. A very good reference for Python 3 syntax and short code examples is available at [Learn Python in Y Minutes](https://learnxinyminutes.com/docs/python/).\n"
    },
    {
      "cell_type": "markdown",
      "metadata": {
        "colab_type": "text",
        "id": "2LDHM08NkCEU"
      },
      "source": "###  Numbers\n\nThe code just below is an example and cannot be executed.\n``` python\n# Comments begin with #\n# You have numbers\n3  # => 3\n\n# Math is what you would expect\n1 + 1   # => 2\n8 - 1   # => 7\n10 * 2  # => 20\n35 / 5  # => 7.0\n\n# Integer division rounds down for both positive and negative numbers.\n5 // 3       # => 1\n-5 // 3      # => -2\n5.0 // 3.0   # => 1.0 # works on floats too\n-5.0 // 3.0  # => -2.0\n\n# The result of division is always a float\n10.0 / 3  # => 3.3333333333333335\n\n# Modulo operation\n7 % 3  # => 1\n\n# Exponentiation (x**y, x to the yth power)\n2**3  # => 8\n\n(1+3j)*(0.45-0.9j)  # => (3.15+0.45j)\n\n```"
    },
    {
      "cell_type": "markdown",
      "metadata": {
        "colab_type": "text",
        "id": "7_4fUYoIkCEV"
      },
      "source": "### Imports and Dot Selection"
    },
    {
      "cell_type": "code",
      "execution_count": 4,
      "metadata": {
        "colab": {},
        "colab_type": "code",
        "id": "tqGr-2U_kCEV",
        "outputId": "62decfaf-c003-4165-84e8-9390f338e490",
        "trusted": true
      },
      "outputs": [
        {
          "name": "stdout",
          "output_type": "stream",
          "text": "3.141592653589793\n9\n"
        }
      ],
      "source": "import numpy as np\nprint(np.pi)\nprint(np.random.randint(10))"
    },
    {
      "cell_type": "code",
      "execution_count": 5,
      "metadata": {
        "colab": {},
        "colab_type": "code",
        "id": "ObMBSd8ukCEY",
        "outputId": "95f4966d-98f1-46fd-9aef-0e52ca0898e9",
        "trusted": true
      },
      "outputs": [
        {
          "data": {
            "text/plain": "1"
          },
          "execution_count": 5,
          "metadata": {},
          "output_type": "execute_result"
        }
      ],
      "source": "from numpy.random import randint\nrandint(10)"
    },
    {
      "cell_type": "markdown",
      "metadata": {
        "colab_type": "text",
        "id": "ftM8-m1tkCEb"
      },
      "source": "### Variables\nPython is dynamically typed, meaning types are assigned automatically wherever possible. "
    },
    {
      "cell_type": "code",
      "execution_count": 6,
      "metadata": {
        "colab": {},
        "colab_type": "code",
        "id": "Wx06VbZVkCEb",
        "outputId": "686debbc-3ff7-4dc8-d291-bed509c9af7e",
        "trusted": true
      },
      "outputs": [
        {
          "name": "stdout",
          "output_type": "stream",
          "text": "-5\n16.0\n(1+3j)\n"
        }
      ],
      "source": "a = -5 # Integers\nprint(a)\nb = 16.0 # Floating point numbers\nprint(b)\nc = 1+3j # Complex numbers\nprint(c)"
    },
    {
      "cell_type": "markdown",
      "metadata": {
        "colab_type": "text",
        "id": "1lcGqh7FkCEe"
      },
      "source": "### Lists"
    },
    {
      "cell_type": "code",
      "execution_count": 7,
      "metadata": {
        "colab": {},
        "colab_type": "code",
        "id": "IuBtLhBXkCEf",
        "outputId": "ac75920d-5fc4-4699-e7d2-b7e60e257208",
        "trusted": true
      },
      "outputs": [
        {
          "name": "stdout",
          "output_type": "stream",
          "text": "[1, 2, 3, 4]\n4\n[10]\n10\n[1, 2, 4]\n"
        }
      ],
      "source": "list1 = [1,2,3,4] # A list of integers\nprint(list1)\nprint(len(list1)) # The number of elements\nlist2 = [] # Square brackets initialises an empty list\nlist2.append(10) # Append an element to the end of a list\nprint(list2)\nprint(list2[0]) # Accessing an element using square brackets. Indices start from 0\nlist1.remove(3) # Remove the element 3 \nprint(list1)"
    },
    {
      "cell_type": "markdown",
      "metadata": {
        "colab_type": "text",
        "id": "ZSZU79-SkCEi"
      },
      "source": "### Strings"
    },
    {
      "cell_type": "code",
      "execution_count": 8,
      "metadata": {
        "colab": {},
        "colab_type": "code",
        "id": "8a6kN36rkCEj",
        "outputId": "a44a0304-f33d-4e65-edb6-af56fa3ff2d8",
        "trusted": true
      },
      "outputs": [
        {
          "name": "stdout",
          "output_type": "stream",
          "text": "Hello, World!\n World!\n"
        }
      ],
      "source": "string1 = \"Hello, World!\" # Single or double quotes\nprint(string1)\nprint(string1[6:]) # Strings behave like a list of characters"
    },
    {
      "cell_type": "markdown",
      "metadata": {
        "colab_type": "text",
        "id": "y6eESuPLkCEm"
      },
      "source": "### Dictionaries"
    },
    {
      "cell_type": "code",
      "execution_count": 9,
      "metadata": {
        "colab": {},
        "colab_type": "code",
        "id": "mZlybnx0kCEn",
        "trusted": true
      },
      "outputs": [],
      "source": "counts = { # Dictionaries are key-value pairs\n    '00': 200,\n    '10': 150,\n    '01': 200,\n    '11': 250\n}"
    },
    {
      "cell_type": "code",
      "execution_count": 10,
      "metadata": {
        "colab": {},
        "colab_type": "code",
        "id": "x-39jre-kCEp",
        "outputId": "b9eac99e-1304-463b-d4e1-59d2f5b2557c",
        "trusted": true
      },
      "outputs": [
        {
          "data": {
            "text/plain": "dict_keys(['00', '10', '01', '11'])"
          },
          "execution_count": 10,
          "metadata": {},
          "output_type": "execute_result"
        }
      ],
      "source": "counts.keys() # Get all the keys"
    },
    {
      "cell_type": "code",
      "execution_count": 11,
      "metadata": {
        "colab": {},
        "colab_type": "code",
        "id": "6Ekycl0ukCEr",
        "outputId": "0bb71db2-713b-4826-d186-f5a048d5be14",
        "trusted": true
      },
      "outputs": [
        {
          "data": {
            "text/plain": "dict_values([200, 150, 200, 250])"
          },
          "execution_count": 11,
          "metadata": {},
          "output_type": "execute_result"
        }
      ],
      "source": "counts.values() # Get all the values"
    },
    {
      "cell_type": "markdown",
      "metadata": {
        "colab_type": "text",
        "id": "Mq_YoAxpkCEu"
      },
      "source": "### Conditionals"
    },
    {
      "cell_type": "code",
      "execution_count": 12,
      "metadata": {
        "colab": {},
        "colab_type": "code",
        "id": "BTkD7HxVkCEu",
        "outputId": "77155888-3836-4fab-cfbd-8e304ae0de00",
        "trusted": true
      },
      "outputs": [
        {
          "name": "stdout",
          "output_type": "stream",
          "text": "10 or more\n"
        }
      ],
      "source": "val = 10 \nif (val < 10):\n    print(\"less than 10\")\nelse:\n    print('10 or more')"
    },
    {
      "cell_type": "markdown",
      "metadata": {
        "colab_type": "text",
        "id": "OqnS65wkkCEx"
      },
      "source": "### Loops"
    },
    {
      "cell_type": "code",
      "execution_count": 13,
      "metadata": {
        "colab": {},
        "colab_type": "code",
        "id": "qUvWx2vLkCEy",
        "outputId": "7f224bc2-5f21-46fe-f33c-41a453118167",
        "trusted": true
      },
      "outputs": [
        {
          "name": "stdout",
          "output_type": "stream",
          "text": "0\n2\n4\n6\n8\n"
        }
      ],
      "source": "for i in range(0,10,2): # Range creates a list \n    print(i)"
    },
    {
      "cell_type": "code",
      "execution_count": 14,
      "metadata": {
        "colab": {},
        "colab_type": "code",
        "id": "Ub14VjnbkCE2",
        "outputId": "a4b33a87-4041-4324-88ca-a33caf7dddf2",
        "trusted": true
      },
      "outputs": [
        {
          "name": "stdout",
          "output_type": "stream",
          "text": "10\n5\n2\n4\n"
        }
      ],
      "source": "for num in [10,5,2,4]:\n    print(num)"
    },
    {
      "cell_type": "code",
      "execution_count": 15,
      "metadata": {
        "colab": {},
        "colab_type": "code",
        "id": "QrRI50X9kCE4",
        "outputId": "abbeb25d-5213-4108-da99-db1c643de996",
        "trusted": true
      },
      "outputs": [
        {
          "name": "stdout",
          "output_type": "stream",
          "text": "00 200\n10 150\n01 200\n11 250\n"
        }
      ],
      "source": "for key, value in counts.items():\n    print(key, value)"
    },
    {
      "cell_type": "markdown",
      "metadata": {
        "colab_type": "text",
        "id": "83xecYK9kCE7"
      },
      "source": "### Functions"
    },
    {
      "cell_type": "code",
      "execution_count": 16,
      "metadata": {
        "colab": {},
        "colab_type": "code",
        "id": "qGxh6ELUkCE7",
        "outputId": "b9f84fb9-5268-48fe-f3d3-f555c4c3e781",
        "trusted": true
      },
      "outputs": [
        {
          "name": "stdout",
          "output_type": "stream",
          "text": "hello\n10\n"
        }
      ],
      "source": "def foo(x):\n    print(x)\n    \nfoo('hello')\nfoo(10)"
    },
    {
      "cell_type": "code",
      "execution_count": 17,
      "metadata": {
        "colab": {},
        "colab_type": "code",
        "id": "LE6rGWIfkCE-",
        "outputId": "445157cd-57a1-4377-a899-2227c7a85149",
        "trusted": true
      },
      "outputs": [
        {
          "data": {
            "text/plain": "16"
          },
          "execution_count": 17,
          "metadata": {},
          "output_type": "execute_result"
        }
      ],
      "source": "def square(x):\n    return x**2\n\nsquare(4)"
    }
  ],
  "metadata": {
    "colab": {
      "name": "intro_python.ipynb",
      "provenance": []
    },
    "kernelspec": {
      "display_name": "Python 3",
      "language": "python",
      "name": "python3"
    },
    "language_info": {
      "codemirror_mode": {
        "name": "ipython",
        "version": 3
      },
      "file_extension": ".py",
      "mimetype": "text/x-python",
      "name": "python",
      "nbconvert_exporter": "python",
      "pygments_lexer": "ipython3",
      "version": "3.7.8"
    }
  },
  "nbformat": 4,
  "nbformat_minor": 1
}